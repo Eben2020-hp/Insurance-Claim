{
 "cells": [
  {
   "cell_type": "markdown",
   "id": "3e0fab1f",
   "metadata": {},
   "source": [
    "### All the Lifecycle In A Data Science Projects\n",
    "1. Exploratory Data Analysis\n",
    "2. Feature Engineering\n",
    "3. Feature Selection\n",
    "4. **Model Building**   -->      ***--THIS SECTION--***\n",
    "5. Model Deployment"
   ]
  },
  {
   "cell_type": "markdown",
   "id": "10dc1d47",
   "metadata": {},
   "source": [
    "## Import Necessary Libraries"
   ]
  },
  {
   "cell_type": "code",
   "execution_count": 76,
   "id": "796c6e65",
   "metadata": {},
   "outputs": [],
   "source": [
    "# Data Analysis\n",
    "import numpy as np\n",
    "import pandas as pd\n",
    "\n",
    "# Machine Learning Algorithms\n",
    "from sklearn.linear_model import LogisticRegression\n",
    "from sklearn.ensemble import RandomForestClassifier\n",
    "from sklearn.tree import DecisionTreeClassifier\n",
    "from sklearn.svm import SVC\n",
    "from sklearn.neighbors import KNeighborsClassifier\n",
    "    \n",
    "# Performance Metrics\n",
    "from sklearn.metrics import classification_report, confusion_matrix, f1_score, precision_score, recall_score, accuracy_score\n",
    "from sklearn.metrics import roc_auc_score\n",
    "\n",
    "# Cross-Validate\n",
    "from sklearn import model_selection\n",
    "from sklearn.model_selection import cross_val_score\n",
    "\n",
    "# Ignore Warnings\n",
    "import warnings\n",
    "warnings.filterwarnings('ignore')"
   ]
  },
  {
   "cell_type": "markdown",
   "id": "62fb0a10",
   "metadata": {},
   "source": [
    "## Loading the Dataset"
   ]
  },
  {
   "cell_type": "code",
   "execution_count": 2,
   "id": "25e5a976",
   "metadata": {},
   "outputs": [
    {
     "data": {
      "text/html": [
       "<div>\n",
       "<style scoped>\n",
       "    .dataframe tbody tr th:only-of-type {\n",
       "        vertical-align: middle;\n",
       "    }\n",
       "\n",
       "    .dataframe tbody tr th {\n",
       "        vertical-align: top;\n",
       "    }\n",
       "\n",
       "    .dataframe thead th {\n",
       "        text-align: right;\n",
       "    }\n",
       "</style>\n",
       "<table border=\"1\" class=\"dataframe\">\n",
       "  <thead>\n",
       "    <tr style=\"text-align: right;\">\n",
       "      <th></th>\n",
       "      <th>GENDER</th>\n",
       "      <th>DRIVING_EXPERIENCE</th>\n",
       "      <th>INCOME</th>\n",
       "      <th>CREDIT_SCORE</th>\n",
       "      <th>VEHICLE_OWNERSHIP</th>\n",
       "      <th>VEHICLE_YEAR</th>\n",
       "      <th>MARRIED</th>\n",
       "      <th>CHILDREN</th>\n",
       "      <th>ANNUAL_MILEAGE</th>\n",
       "      <th>PAST_ACCIDENTS</th>\n",
       "      <th>OUTCOME</th>\n",
       "    </tr>\n",
       "  </thead>\n",
       "  <tbody>\n",
       "    <tr>\n",
       "      <th>0</th>\n",
       "      <td>0</td>\n",
       "      <td>0</td>\n",
       "      <td>3</td>\n",
       "      <td>0.629027</td>\n",
       "      <td>1.0</td>\n",
       "      <td>1</td>\n",
       "      <td>0.0</td>\n",
       "      <td>1.0</td>\n",
       "      <td>12000.0</td>\n",
       "      <td>0</td>\n",
       "      <td>0</td>\n",
       "    </tr>\n",
       "    <tr>\n",
       "      <th>1</th>\n",
       "      <td>1</td>\n",
       "      <td>0</td>\n",
       "      <td>0</td>\n",
       "      <td>0.357757</td>\n",
       "      <td>0.0</td>\n",
       "      <td>0</td>\n",
       "      <td>0.0</td>\n",
       "      <td>0.0</td>\n",
       "      <td>16000.0</td>\n",
       "      <td>0</td>\n",
       "      <td>1</td>\n",
       "    </tr>\n",
       "    <tr>\n",
       "      <th>2</th>\n",
       "      <td>0</td>\n",
       "      <td>0</td>\n",
       "      <td>1</td>\n",
       "      <td>0.493146</td>\n",
       "      <td>1.0</td>\n",
       "      <td>0</td>\n",
       "      <td>0.0</td>\n",
       "      <td>0.0</td>\n",
       "      <td>11000.0</td>\n",
       "      <td>0</td>\n",
       "      <td>0</td>\n",
       "    </tr>\n",
       "    <tr>\n",
       "      <th>3</th>\n",
       "      <td>1</td>\n",
       "      <td>0</td>\n",
       "      <td>1</td>\n",
       "      <td>0.206013</td>\n",
       "      <td>1.0</td>\n",
       "      <td>0</td>\n",
       "      <td>0.0</td>\n",
       "      <td>1.0</td>\n",
       "      <td>11000.0</td>\n",
       "      <td>0</td>\n",
       "      <td>0</td>\n",
       "    </tr>\n",
       "    <tr>\n",
       "      <th>4</th>\n",
       "      <td>1</td>\n",
       "      <td>1</td>\n",
       "      <td>1</td>\n",
       "      <td>0.388366</td>\n",
       "      <td>1.0</td>\n",
       "      <td>0</td>\n",
       "      <td>0.0</td>\n",
       "      <td>0.0</td>\n",
       "      <td>12000.0</td>\n",
       "      <td>1</td>\n",
       "      <td>1</td>\n",
       "    </tr>\n",
       "  </tbody>\n",
       "</table>\n",
       "</div>"
      ],
      "text/plain": [
       "   GENDER  DRIVING_EXPERIENCE  INCOME  CREDIT_SCORE  VEHICLE_OWNERSHIP  \\\n",
       "0       0                   0       3      0.629027                1.0   \n",
       "1       1                   0       0      0.357757                0.0   \n",
       "2       0                   0       1      0.493146                1.0   \n",
       "3       1                   0       1      0.206013                1.0   \n",
       "4       1                   1       1      0.388366                1.0   \n",
       "\n",
       "   VEHICLE_YEAR  MARRIED  CHILDREN  ANNUAL_MILEAGE  PAST_ACCIDENTS  OUTCOME  \n",
       "0             1      0.0       1.0         12000.0               0        0  \n",
       "1             0      0.0       0.0         16000.0               0        1  \n",
       "2             0      0.0       0.0         11000.0               0        0  \n",
       "3             0      0.0       1.0         11000.0               0        0  \n",
       "4             0      0.0       0.0         12000.0               1        1  "
      ]
     },
     "execution_count": 2,
     "metadata": {},
     "output_type": "execute_result"
    }
   ],
   "source": [
    "df = pd.read_csv('Data.csv')\n",
    "df.head()"
   ]
  },
  {
   "cell_type": "markdown",
   "id": "91db5726",
   "metadata": {},
   "source": [
    "### Splitting the Data into Train and Test"
   ]
  },
  {
   "cell_type": "code",
   "execution_count": 3,
   "id": "f0280e8d",
   "metadata": {},
   "outputs": [],
   "source": [
    "X = df.drop(columns= 'OUTCOME')\n",
    "y = df[['OUTCOME']]"
   ]
  },
  {
   "cell_type": "code",
   "execution_count": 4,
   "id": "97e3b409",
   "metadata": {},
   "outputs": [],
   "source": [
    "from sklearn.model_selection import train_test_split"
   ]
  },
  {
   "cell_type": "code",
   "execution_count": 5,
   "id": "a3870451",
   "metadata": {},
   "outputs": [],
   "source": [
    "X_train, X_test, y_train, y_test = train_test_split(X, y, test_size= 0.30, random_state= 42)"
   ]
  },
  {
   "cell_type": "markdown",
   "id": "d9cb985b",
   "metadata": {},
   "source": [
    "- We will try without any Re-Sampling Techniques and then compare with Sampled Models. "
   ]
  },
  {
   "cell_type": "code",
   "execution_count": 6,
   "id": "7f4859d6",
   "metadata": {
    "scrolled": false
   },
   "outputs": [
    {
     "name": "stdout",
     "output_type": "stream",
     "text": [
      "      GENDER  DRIVING_EXPERIENCE  INCOME  CREDIT_SCORE  VEHICLE_OWNERSHIP  \\\n",
      "9069       1                   2       3      0.594366                1.0   \n",
      "2603       0                   1       3      0.644906                1.0   \n",
      "7738       0                   0       0      0.343943                1.0   \n",
      "1579       1                   1       3      0.597851                1.0   \n",
      "5058       1                   0       3      0.635860                1.0   \n",
      "...      ...                 ...     ...           ...                ...   \n",
      "5734       1                   0       1      0.448070                0.0   \n",
      "5191       0                   2       3      0.705328                1.0   \n",
      "5390       0                   2       3      0.701491                1.0   \n",
      "860        0                   1       3      0.646763                1.0   \n",
      "7270       1                   2       2      0.594994                1.0   \n",
      "\n",
      "      VEHICLE_YEAR  MARRIED  CHILDREN  ANNUAL_MILEAGE  PAST_ACCIDENTS  \n",
      "9069             1      1.0       1.0          8000.0               3  \n",
      "2603             1      0.0       0.0         13000.0               1  \n",
      "7738             0      0.0       1.0         16000.0               0  \n",
      "1579             0      1.0       0.0         12000.0               1  \n",
      "5058             1      0.0       1.0         14000.0               0  \n",
      "...            ...      ...       ...             ...             ...  \n",
      "5734             0      0.0       0.0         14000.0               0  \n",
      "5191             0      1.0       1.0          9000.0               2  \n",
      "5390             0      1.0       1.0          9000.0               2  \n",
      "860              0      0.0       1.0          9000.0               0  \n",
      "7270             0      1.0       1.0         12000.0               4  \n",
      "\n",
      "[7000 rows x 10 columns]\n",
      "\n",
      "      OUTCOME\n",
      "9069        0\n",
      "2603        0\n",
      "7738        0\n",
      "1579        0\n",
      "5058        1\n",
      "...       ...\n",
      "5734        1\n",
      "5191        0\n",
      "5390        0\n",
      "860         0\n",
      "7270        0\n",
      "\n",
      "[7000 rows x 1 columns]\n"
     ]
    }
   ],
   "source": [
    "print(X_train)\n",
    "print()\n",
    "print(y_train)"
   ]
  },
  {
   "cell_type": "markdown",
   "id": "1412669a",
   "metadata": {},
   "source": [
    "#### We will be looking at Recall as we don't want to predict the customers who will actually claim their Insurance as those who will not claim. "
   ]
  },
  {
   "cell_type": "markdown",
   "id": "dcbc5a69",
   "metadata": {},
   "source": [
    "### Without ReSampling\n",
    "\n",
    "#### 1. Logistic Regression"
   ]
  },
  {
   "cell_type": "code",
   "execution_count": 7,
   "id": "9871033a",
   "metadata": {},
   "outputs": [],
   "source": [
    "log_model = LogisticRegression()\n",
    "kfold = model_selection.KFold(n_splits= 10, random_state= 7, shuffle= True)\n",
    "\n",
    "## Fitting the Model\n",
    "model1 = log_model.fit(X_train, y_train)"
   ]
  },
  {
   "cell_type": "code",
   "execution_count": 8,
   "id": "24b97316",
   "metadata": {},
   "outputs": [
    {
     "name": "stdout",
     "output_type": "stream",
     "text": [
      "The Initial Accuracy of the Logistic Model is: 0.7761428571428571\n",
      "The Cross-Validated Accuracy of the Logistic Model is: 0.7895714285714286\n"
     ]
    }
   ],
   "source": [
    "### Performance Metrics\n",
    "LOG_accuracy = model1.score(X_train, y_train)\n",
    "LOG_cv_accuracy = cross_val_score(model1, X_train, y_train, cv= kfold, scoring= 'accuracy')    ### To overcome Overfitting.\n",
    "\n",
    "print(f'The Initial Accuracy of the Logistic Model is: {LOG_accuracy}')\n",
    "print(f'The Cross-Validated Accuracy of the Logistic Model is: {LOG_cv_accuracy.mean()}')"
   ]
  },
  {
   "cell_type": "code",
   "execution_count": 9,
   "id": "cddedd8b",
   "metadata": {},
   "outputs": [],
   "source": [
    "## Prediction\n",
    "y_pred1 = model1.predict(X_test)"
   ]
  },
  {
   "cell_type": "code",
   "execution_count": 10,
   "id": "682373de",
   "metadata": {},
   "outputs": [
    {
     "name": "stdout",
     "output_type": "stream",
     "text": [
      "------------Confusion Matrix--------------\n",
      "[[1828  204]\n",
      " [ 493  475]]\n"
     ]
    }
   ],
   "source": [
    "### Confusion Matrix\n",
    "confusionmatrix1 = confusion_matrix(y_test, y_pred1)\n",
    "print('------------Confusion Matrix--------------')\n",
    "print(confusionmatrix1)"
   ]
  },
  {
   "cell_type": "code",
   "execution_count": 11,
   "id": "04bc71c3",
   "metadata": {},
   "outputs": [
    {
     "name": "stdout",
     "output_type": "stream",
     "text": [
      "              precision    recall  f1-score   support\n",
      "\n",
      "           0       0.79      0.90      0.84      2032\n",
      "           1       0.70      0.49      0.58       968\n",
      "\n",
      "    accuracy                           0.77      3000\n",
      "   macro avg       0.74      0.70      0.71      3000\n",
      "weighted avg       0.76      0.77      0.75      3000\n",
      "\n"
     ]
    }
   ],
   "source": [
    "### Classification Report\n",
    "from sklearn.metrics import classification_report\n",
    "print(classification_report(y_test, y_pred1))"
   ]
  },
  {
   "cell_type": "code",
   "execution_count": 12,
   "id": "d646d7b6",
   "metadata": {},
   "outputs": [
    {
     "name": "stdout",
     "output_type": "stream",
     "text": [
      "The Precision of the Logistic Model is: 0.6995581737849779\n",
      "The Recall of the Logistic Model is: 0.490702479338843\n",
      "The F1-Score of the Logistic Model is: 0.5768063145112325\n"
     ]
    }
   ],
   "source": [
    "### Test Performance Metrics\n",
    "LOG_precision = precision_score(y_test, y_pred1)\n",
    "LOG_recall = recall_score(y_test, y_pred1)\n",
    "LOG_f1Score = f1_score(y_test, y_pred1)\n",
    "\n",
    "print(f'The Precision of the Logistic Model is: {LOG_precision}')\n",
    "print(f'The Recall of the Logistic Model is: {LOG_recall}')\n",
    "print(f'The F1-Score of the Logistic Model is: {LOG_f1Score}')"
   ]
  },
  {
   "cell_type": "code",
   "execution_count": 13,
   "id": "928b2919",
   "metadata": {},
   "outputs": [],
   "source": [
    "### ROC-AUC"
   ]
  },
  {
   "cell_type": "markdown",
   "id": "409db828",
   "metadata": {},
   "source": [
    "#### 2. Support Vector Machines"
   ]
  },
  {
   "cell_type": "code",
   "execution_count": 14,
   "id": "f99ec0f8",
   "metadata": {},
   "outputs": [],
   "source": [
    "svc_model = SVC()\n",
    "\n",
    "## Fitting the Model\n",
    "model2 = svc_model.fit(X_train, y_train)"
   ]
  },
  {
   "cell_type": "code",
   "execution_count": 15,
   "id": "9c2c01e8",
   "metadata": {},
   "outputs": [
    {
     "name": "stdout",
     "output_type": "stream",
     "text": [
      "The Initial Accuracy of the SVM Model is: 0.6907142857142857\n",
      "The Cross-Validated Accuracy of the SVM Model is: 0.6907142857142856\n"
     ]
    }
   ],
   "source": [
    "### Performance Metrics\n",
    "SVC_accuracy = model2.score(X_train, y_train)\n",
    "SVC_cv_accuracy = cross_val_score(model2, X_train, y_train, cv= kfold, scoring= 'accuracy')    ### To overcome Overfitting.\n",
    "\n",
    "print(f'The Initial Accuracy of the SVM Model is: {SVC_accuracy}')\n",
    "print(f'The Cross-Validated Accuracy of the SVM Model is: {SVC_cv_accuracy.mean()}')"
   ]
  },
  {
   "cell_type": "code",
   "execution_count": 16,
   "id": "161a30fc",
   "metadata": {},
   "outputs": [],
   "source": [
    "## Prediction\n",
    "y_pred2 = model2.predict(X_test)"
   ]
  },
  {
   "cell_type": "code",
   "execution_count": 17,
   "id": "a5a6d04c",
   "metadata": {},
   "outputs": [
    {
     "name": "stdout",
     "output_type": "stream",
     "text": [
      "------------Confusion Matrix--------------\n",
      "[[2032    0]\n",
      " [ 968    0]]\n"
     ]
    }
   ],
   "source": [
    "### Confusion Matrix\n",
    "confusionmatrix2 = confusion_matrix(y_test, y_pred2)\n",
    "print('------------Confusion Matrix--------------')\n",
    "print(confusionmatrix2)"
   ]
  },
  {
   "cell_type": "code",
   "execution_count": 18,
   "id": "a1325a55",
   "metadata": {},
   "outputs": [
    {
     "name": "stdout",
     "output_type": "stream",
     "text": [
      "              precision    recall  f1-score   support\n",
      "\n",
      "           0       0.68      1.00      0.81      2032\n",
      "           1       0.00      0.00      0.00       968\n",
      "\n",
      "    accuracy                           0.68      3000\n",
      "   macro avg       0.34      0.50      0.40      3000\n",
      "weighted avg       0.46      0.68      0.55      3000\n",
      "\n"
     ]
    }
   ],
   "source": [
    "### Classification Report\n",
    "from sklearn.metrics import classification_report\n",
    "print(classification_report(y_test, y_pred2))"
   ]
  },
  {
   "cell_type": "code",
   "execution_count": 19,
   "id": "6a14a5b4",
   "metadata": {},
   "outputs": [
    {
     "name": "stdout",
     "output_type": "stream",
     "text": [
      "The Precision of the SVM Model is: 0.0\n",
      "The Recall of the SVM Model is: 0.0\n",
      "The F1-Score of the SVM Model is: 0.0\n"
     ]
    }
   ],
   "source": [
    "### Test Performance Metrics\n",
    "SVC_precision = precision_score(y_test, y_pred2)\n",
    "SVC_recall = recall_score(y_test, y_pred2)\n",
    "SVC_f1Score = f1_score(y_test, y_pred2)\n",
    "\n",
    "print(f'The Precision of the SVM Model is: {SVC_precision}')\n",
    "print(f'The Recall of the SVM Model is: {SVC_recall}')\n",
    "print(f'The F1-Score of the SVM Model is: {SVC_f1Score}')"
   ]
  },
  {
   "cell_type": "markdown",
   "id": "f44b2bf1",
   "metadata": {},
   "source": [
    "#### 3. K-Nearest Neighbours"
   ]
  },
  {
   "cell_type": "code",
   "execution_count": 20,
   "id": "e6bcf6eb",
   "metadata": {},
   "outputs": [],
   "source": [
    "knn_model = KNeighborsClassifier()\n",
    "\n",
    "## Fitting the Model\n",
    "model3 = knn_model.fit(X_train, y_train)"
   ]
  },
  {
   "cell_type": "code",
   "execution_count": 21,
   "id": "e93bea13",
   "metadata": {},
   "outputs": [
    {
     "name": "stdout",
     "output_type": "stream",
     "text": [
      "The Initial Accuracy of the KNN Model is: 0.8647142857142858\n",
      "The Cross-Validated Accuracy of the KNN Model is: 0.8082857142857144\n"
     ]
    }
   ],
   "source": [
    "### Performance Metrics\n",
    "KNN_accuracy = model3.score(X_train, y_train)\n",
    "KNN_cv_accuracy = cross_val_score(model3, X_train, y_train, cv= kfold, scoring= 'accuracy')    ### To overcome Overfitting.\n",
    "\n",
    "print(f'The Initial Accuracy of the KNN Model is: {KNN_accuracy}')\n",
    "print(f'The Cross-Validated Accuracy of the KNN Model is: {KNN_cv_accuracy.mean()}')"
   ]
  },
  {
   "cell_type": "code",
   "execution_count": 22,
   "id": "32903a68",
   "metadata": {},
   "outputs": [],
   "source": [
    "## Prediction\n",
    "y_pred3 = model3.predict(X_test)"
   ]
  },
  {
   "cell_type": "code",
   "execution_count": 23,
   "id": "3b44376d",
   "metadata": {},
   "outputs": [
    {
     "name": "stdout",
     "output_type": "stream",
     "text": [
      "------------Confusion Matrix--------------\n",
      "[[1761  271]\n",
      " [ 315  653]]\n"
     ]
    }
   ],
   "source": [
    "### Confusion Matrix\n",
    "confusionmatrix3 = confusion_matrix(y_test, y_pred3)\n",
    "print('------------Confusion Matrix--------------')\n",
    "print(confusionmatrix3)"
   ]
  },
  {
   "cell_type": "code",
   "execution_count": 24,
   "id": "462a7afd",
   "metadata": {},
   "outputs": [
    {
     "name": "stdout",
     "output_type": "stream",
     "text": [
      "              precision    recall  f1-score   support\n",
      "\n",
      "           0       0.85      0.87      0.86      2032\n",
      "           1       0.71      0.67      0.69       968\n",
      "\n",
      "    accuracy                           0.80      3000\n",
      "   macro avg       0.78      0.77      0.77      3000\n",
      "weighted avg       0.80      0.80      0.80      3000\n",
      "\n"
     ]
    }
   ],
   "source": [
    "### Classification Report\n",
    "from sklearn.metrics import classification_report\n",
    "print(classification_report(y_test, y_pred3))"
   ]
  },
  {
   "cell_type": "code",
   "execution_count": 25,
   "id": "4088b385",
   "metadata": {},
   "outputs": [
    {
     "name": "stdout",
     "output_type": "stream",
     "text": [
      "The Precision of the KNN Model is: 0.7067099567099567\n",
      "The Recall of the KNN Model is: 0.6745867768595041\n",
      "The F1-Score of the KNN Model is: 0.6902748414376322\n"
     ]
    }
   ],
   "source": [
    "### Test Performance Metrics\n",
    "KNN_precision = precision_score(y_test, y_pred3)\n",
    "KNN_recall = recall_score(y_test, y_pred3)\n",
    "KNN_f1Score = f1_score(y_test, y_pred3)\n",
    "\n",
    "print(f'The Precision of the KNN Model is: {KNN_precision}')\n",
    "print(f'The Recall of the KNN Model is: {KNN_recall}')\n",
    "print(f'The F1-Score of the KNN Model is: {KNN_f1Score}')"
   ]
  },
  {
   "cell_type": "markdown",
   "id": "d75edb63",
   "metadata": {},
   "source": [
    "#### 4. Decision Trees"
   ]
  },
  {
   "cell_type": "code",
   "execution_count": 26,
   "id": "59903bce",
   "metadata": {},
   "outputs": [],
   "source": [
    "dc_model = DecisionTreeClassifier()\n",
    "\n",
    "## Fitting the Model\n",
    "model4 = dc_model.fit(X_train, y_train)"
   ]
  },
  {
   "cell_type": "code",
   "execution_count": 27,
   "id": "7686a3aa",
   "metadata": {},
   "outputs": [
    {
     "name": "stdout",
     "output_type": "stream",
     "text": [
      "The Initial Accuracy of the DC Model is: 1.0\n",
      "The Cross-Validated Accuracy of the DC Model is: 0.7779999999999999\n"
     ]
    }
   ],
   "source": [
    "### Performance Metrics\n",
    "DC_accuracy = model4.score(X_train, y_train)\n",
    "DC_cv_accuracy = cross_val_score(model4, X_train, y_train, cv= kfold, scoring= 'accuracy')    ### To overcome Overfitting.\n",
    "\n",
    "print(f'The Initial Accuracy of the DC Model is: {DC_accuracy}')\n",
    "print(f'The Cross-Validated Accuracy of the DC Model is: {DC_cv_accuracy.mean()}')"
   ]
  },
  {
   "cell_type": "code",
   "execution_count": 28,
   "id": "9b380f53",
   "metadata": {},
   "outputs": [],
   "source": [
    "## Prediction\n",
    "y_pred4 = model4.predict(X_test)"
   ]
  },
  {
   "cell_type": "code",
   "execution_count": 29,
   "id": "7576c18b",
   "metadata": {},
   "outputs": [
    {
     "name": "stdout",
     "output_type": "stream",
     "text": [
      "------------Confusion Matrix--------------\n",
      "[[1675  357]\n",
      " [ 374  594]]\n"
     ]
    }
   ],
   "source": [
    "### Confusion Matrix\n",
    "confusionmatrix4 = confusion_matrix(y_test, y_pred4)\n",
    "print('------------Confusion Matrix--------------')\n",
    "print(confusionmatrix4)"
   ]
  },
  {
   "cell_type": "code",
   "execution_count": 30,
   "id": "9cce548b",
   "metadata": {},
   "outputs": [
    {
     "name": "stdout",
     "output_type": "stream",
     "text": [
      "              precision    recall  f1-score   support\n",
      "\n",
      "           0       0.82      0.82      0.82      2032\n",
      "           1       0.62      0.61      0.62       968\n",
      "\n",
      "    accuracy                           0.76      3000\n",
      "   macro avg       0.72      0.72      0.72      3000\n",
      "weighted avg       0.76      0.76      0.76      3000\n",
      "\n"
     ]
    }
   ],
   "source": [
    "### Classification Report\n",
    "from sklearn.metrics import classification_report\n",
    "print(classification_report(y_test, y_pred4))"
   ]
  },
  {
   "cell_type": "code",
   "execution_count": 31,
   "id": "58756978",
   "metadata": {},
   "outputs": [
    {
     "name": "stdout",
     "output_type": "stream",
     "text": [
      "The Precision of the DC Model is: 0.6246056782334385\n",
      "The Recall of the DC Model is: 0.6136363636363636\n",
      "The F1-Score of the DC Model is: 0.6190724335591454\n"
     ]
    }
   ],
   "source": [
    "### Test Performance Metrics\n",
    "DC_precision = precision_score(y_test, y_pred4)\n",
    "DC_recall = recall_score(y_test, y_pred4)\n",
    "DC_f1Score = f1_score(y_test, y_pred4)\n",
    "\n",
    "print(f'The Precision of the DC Model is: {DC_precision}')\n",
    "print(f'The Recall of the DC Model is: {DC_recall}')\n",
    "print(f'The F1-Score of the DC Model is: {DC_f1Score}')"
   ]
  },
  {
   "cell_type": "markdown",
   "id": "b339e3a2",
   "metadata": {},
   "source": [
    "#### 5. Random Forest"
   ]
  },
  {
   "cell_type": "code",
   "execution_count": 32,
   "id": "1347277f",
   "metadata": {},
   "outputs": [],
   "source": [
    "rf_model = RandomForestClassifier()\n",
    "\n",
    "## Fitting the Model\n",
    "model5 = rf_model.fit(X_train, y_train)"
   ]
  },
  {
   "cell_type": "code",
   "execution_count": 33,
   "id": "d94572ab",
   "metadata": {},
   "outputs": [
    {
     "name": "stdout",
     "output_type": "stream",
     "text": [
      "The Initial Accuracy of the RF Model is: 1.0\n",
      "The Cross-Validated Accuracy of the RF Model is: 0.823857142857143\n"
     ]
    }
   ],
   "source": [
    "### Performance Metrics\n",
    "RF_accuracy = model5.score(X_train, y_train)\n",
    "RF_cv_accuracy = cross_val_score(model5, X_train, y_train, cv= kfold, scoring= 'accuracy')    ### To overcome Overfitting.\n",
    "\n",
    "print(f'The Initial Accuracy of the RF Model is: {RF_accuracy}')\n",
    "print(f'The Cross-Validated Accuracy of the RF Model is: {RF_cv_accuracy.mean()}')"
   ]
  },
  {
   "cell_type": "code",
   "execution_count": 34,
   "id": "59c6217f",
   "metadata": {},
   "outputs": [],
   "source": [
    "## Prediction\n",
    "y_pred5 = model5.predict(X_test)"
   ]
  },
  {
   "cell_type": "code",
   "execution_count": 35,
   "id": "7968d63a",
   "metadata": {},
   "outputs": [
    {
     "name": "stdout",
     "output_type": "stream",
     "text": [
      "------------Confusion Matrix--------------\n",
      "[[1823  209]\n",
      " [ 339  629]]\n"
     ]
    }
   ],
   "source": [
    "### Confusion Matrix\n",
    "confusionmatrix5 = confusion_matrix(y_test, y_pred5)\n",
    "print('------------Confusion Matrix--------------')\n",
    "print(confusionmatrix5)"
   ]
  },
  {
   "cell_type": "code",
   "execution_count": 36,
   "id": "0c5807be",
   "metadata": {},
   "outputs": [
    {
     "name": "stdout",
     "output_type": "stream",
     "text": [
      "              precision    recall  f1-score   support\n",
      "\n",
      "           0       0.84      0.90      0.87      2032\n",
      "           1       0.75      0.65      0.70       968\n",
      "\n",
      "    accuracy                           0.82      3000\n",
      "   macro avg       0.80      0.77      0.78      3000\n",
      "weighted avg       0.81      0.82      0.81      3000\n",
      "\n"
     ]
    }
   ],
   "source": [
    "### Classification Report\n",
    "from sklearn.metrics import classification_report\n",
    "print(classification_report(y_test, y_pred5))"
   ]
  },
  {
   "cell_type": "code",
   "execution_count": 37,
   "id": "bf397dbd",
   "metadata": {},
   "outputs": [
    {
     "name": "stdout",
     "output_type": "stream",
     "text": [
      "The Precision of the RF Model is: 0.7505966587112172\n",
      "The Recall of the RF Model is: 0.6497933884297521\n",
      "The F1-Score of the RF Model is: 0.6965669988925803\n"
     ]
    }
   ],
   "source": [
    "### Test Performance Metrics\n",
    "RF_precision = precision_score(y_test, y_pred5)\n",
    "RF_recall = recall_score(y_test, y_pred5)\n",
    "RF_f1Score = f1_score(y_test, y_pred5)\n",
    "\n",
    "print(f'The Precision of the RF Model is: {RF_precision}')\n",
    "print(f'The Recall of the RF Model is: {RF_recall}')\n",
    "print(f'The F1-Score of the RF Model is: {RF_f1Score}')"
   ]
  },
  {
   "cell_type": "code",
   "execution_count": 39,
   "id": "02836735",
   "metadata": {},
   "outputs": [
    {
     "name": "stdout",
     "output_type": "stream",
     "text": [
      "-----Model Metrics Analysis-----\n"
     ]
    },
    {
     "data": {
      "text/html": [
       "<div>\n",
       "<style scoped>\n",
       "    .dataframe tbody tr th:only-of-type {\n",
       "        vertical-align: middle;\n",
       "    }\n",
       "\n",
       "    .dataframe tbody tr th {\n",
       "        vertical-align: top;\n",
       "    }\n",
       "\n",
       "    .dataframe thead th {\n",
       "        text-align: right;\n",
       "    }\n",
       "</style>\n",
       "<table border=\"1\" class=\"dataframe\">\n",
       "  <thead>\n",
       "    <tr style=\"text-align: right;\">\n",
       "      <th></th>\n",
       "      <th>Model</th>\n",
       "      <th>Train Accuracy</th>\n",
       "      <th>Test Precision</th>\n",
       "      <th>Test Recall</th>\n",
       "      <th>Test F1 Score</th>\n",
       "    </tr>\n",
       "  </thead>\n",
       "  <tbody>\n",
       "    <tr>\n",
       "      <th>2</th>\n",
       "      <td>K-Nearest Neighbours</td>\n",
       "      <td>0.808286</td>\n",
       "      <td>0.706710</td>\n",
       "      <td>0.674587</td>\n",
       "      <td>0.690275</td>\n",
       "    </tr>\n",
       "    <tr>\n",
       "      <th>4</th>\n",
       "      <td>Random Forest</td>\n",
       "      <td>0.823857</td>\n",
       "      <td>0.750597</td>\n",
       "      <td>0.649793</td>\n",
       "      <td>0.696567</td>\n",
       "    </tr>\n",
       "    <tr>\n",
       "      <th>3</th>\n",
       "      <td>Decision Trees</td>\n",
       "      <td>0.778000</td>\n",
       "      <td>0.624606</td>\n",
       "      <td>0.613636</td>\n",
       "      <td>0.619072</td>\n",
       "    </tr>\n",
       "    <tr>\n",
       "      <th>0</th>\n",
       "      <td>Logistic Regression</td>\n",
       "      <td>0.789571</td>\n",
       "      <td>0.699558</td>\n",
       "      <td>0.490702</td>\n",
       "      <td>0.576806</td>\n",
       "    </tr>\n",
       "    <tr>\n",
       "      <th>1</th>\n",
       "      <td>Support Vectors</td>\n",
       "      <td>0.690714</td>\n",
       "      <td>0.000000</td>\n",
       "      <td>0.000000</td>\n",
       "      <td>0.000000</td>\n",
       "    </tr>\n",
       "  </tbody>\n",
       "</table>\n",
       "</div>"
      ],
      "text/plain": [
       "                  Model  Train Accuracy  Test Precision  Test Recall  \\\n",
       "2  K-Nearest Neighbours        0.808286        0.706710     0.674587   \n",
       "4         Random Forest        0.823857        0.750597     0.649793   \n",
       "3        Decision Trees        0.778000        0.624606     0.613636   \n",
       "0   Logistic Regression        0.789571        0.699558     0.490702   \n",
       "1       Support Vectors        0.690714        0.000000     0.000000   \n",
       "\n",
       "   Test F1 Score  \n",
       "2       0.690275  \n",
       "4       0.696567  \n",
       "3       0.619072  \n",
       "0       0.576806  \n",
       "1       0.000000  "
      ]
     },
     "execution_count": 39,
     "metadata": {},
     "output_type": "execute_result"
    }
   ],
   "source": [
    "Model_Metrics = pd.DataFrame({'Model':['Logistic Regression', 'Support Vectors', 'K-Nearest Neighbours', 'Decision Trees', 'Random Forest'],\n",
    "                      'Train Accuracy':[LOG_cv_accuracy.mean(), SVC_cv_accuracy.mean(), KNN_cv_accuracy.mean(), DC_cv_accuracy.mean(), RF_cv_accuracy.mean()],\n",
    "                      'Test Precision':[LOG_precision, SVC_precision, KNN_precision, DC_precision, RF_precision],\n",
    "                      'Test Recall':[LOG_recall, SVC_recall, KNN_recall, DC_recall, RF_recall],\n",
    "                      'Test F1 Score':[LOG_f1Score, SVC_f1Score, KNN_f1Score, DC_f1Score, RF_f1Score],})\n",
    "\n",
    "print('-----Model Metrics Analysis-----')\n",
    "Model_Metrics.nlargest(5,'Test Recall')\n"
   ]
  },
  {
   "cell_type": "markdown",
   "id": "0da9cb57",
   "metadata": {},
   "source": [
    "### With ReSampling (APPLYING SMOTE-Tomek)"
   ]
  },
  {
   "cell_type": "code",
   "execution_count": 40,
   "id": "6714152a",
   "metadata": {},
   "outputs": [],
   "source": [
    "from collections import Counter\n",
    "from imblearn.combine import SMOTETomek\n",
    "from imblearn.under_sampling import TomekLinks"
   ]
  },
  {
   "cell_type": "code",
   "execution_count": 41,
   "id": "d042776d",
   "metadata": {},
   "outputs": [],
   "source": [
    "smote_tomek = SMOTETomek(random_state=42, tomek= TomekLinks())\n",
    "X_res, y_res = smote_tomek.fit_resample(X_train, y_train['OUTCOME'])"
   ]
  },
  {
   "cell_type": "code",
   "execution_count": 42,
   "id": "c689359b",
   "metadata": {},
   "outputs": [
    {
     "name": "stdout",
     "output_type": "stream",
     "text": [
      "Original dataset shape Counter({0: 4835, 1: 2165})\n",
      "Resampled dataset shape Counter({0: 4835, 1: 4453})\n"
     ]
    }
   ],
   "source": [
    "print('Original dataset shape %s' % Counter(y_train['OUTCOME']))\n",
    "print('Resampled dataset shape %s' % Counter(y_res))"
   ]
  },
  {
   "cell_type": "markdown",
   "id": "b686b0cb",
   "metadata": {},
   "source": [
    "#### 1. Logistic Regression"
   ]
  },
  {
   "cell_type": "code",
   "execution_count": 43,
   "id": "c8a33697",
   "metadata": {},
   "outputs": [],
   "source": [
    "log_model = LogisticRegression()\n",
    "kfold = model_selection.KFold(n_splits= 10, random_state= 7, shuffle= True)\n",
    "\n",
    "## Fitting the Model\n",
    "model1 = log_model.fit(X_res, y_res)"
   ]
  },
  {
   "cell_type": "code",
   "execution_count": 44,
   "id": "325d83ba",
   "metadata": {},
   "outputs": [
    {
     "name": "stdout",
     "output_type": "stream",
     "text": [
      "The Initial Accuracy of the Logistic Model is: 0.8557278208440999\n",
      "The Cross-Validated Accuracy of the Logistic Model is: 0.8250491815448573\n"
     ]
    }
   ],
   "source": [
    "### Performance Metrics\n",
    "LOG_accuracy = model1.score(X_res, y_res)\n",
    "LOG_cv_accuracy = cross_val_score(model1, X_res, y_res, cv= kfold, scoring= 'accuracy')    ### To overcome Overfitting.\n",
    "\n",
    "print(f'The Initial Accuracy of the Logistic Model is: {LOG_accuracy}')\n",
    "print(f'The Cross-Validated Accuracy of the Logistic Model is: {LOG_cv_accuracy.mean()}')"
   ]
  },
  {
   "cell_type": "code",
   "execution_count": 45,
   "id": "b0ef921e",
   "metadata": {},
   "outputs": [],
   "source": [
    "## Prediction\n",
    "y_pred1 = model1.predict(X_test)"
   ]
  },
  {
   "cell_type": "code",
   "execution_count": 46,
   "id": "7b2bfe0d",
   "metadata": {},
   "outputs": [
    {
     "name": "stdout",
     "output_type": "stream",
     "text": [
      "------------Confusion Matrix--------------\n",
      "[[1689  343]\n",
      " [ 193  775]]\n"
     ]
    }
   ],
   "source": [
    "### Confusion Matrix\n",
    "confusionmatrix6 = confusion_matrix(y_test, y_pred1)\n",
    "print('------------Confusion Matrix--------------')\n",
    "print(confusionmatrix6)"
   ]
  },
  {
   "cell_type": "code",
   "execution_count": 47,
   "id": "0db27ece",
   "metadata": {},
   "outputs": [
    {
     "name": "stdout",
     "output_type": "stream",
     "text": [
      "              precision    recall  f1-score   support\n",
      "\n",
      "           0       0.90      0.83      0.86      2032\n",
      "           1       0.69      0.80      0.74       968\n",
      "\n",
      "    accuracy                           0.82      3000\n",
      "   macro avg       0.80      0.82      0.80      3000\n",
      "weighted avg       0.83      0.82      0.82      3000\n",
      "\n"
     ]
    }
   ],
   "source": [
    "### Classification Report\n",
    "from sklearn.metrics import classification_report\n",
    "print(classification_report(y_test, y_pred1))"
   ]
  },
  {
   "cell_type": "code",
   "execution_count": 48,
   "id": "972f3ec0",
   "metadata": {},
   "outputs": [
    {
     "name": "stdout",
     "output_type": "stream",
     "text": [
      "The Precision of the Logistic Model is: 0.6932021466905188\n",
      "The Recall of the Logistic Model is: 0.8006198347107438\n",
      "The F1-Score of the Logistic Model is: 0.7430488974113136\n"
     ]
    }
   ],
   "source": [
    "### Test Performance Metrics\n",
    "LOG_precision = precision_score(y_test, y_pred1)\n",
    "LOG_recall = recall_score(y_test, y_pred1)\n",
    "LOG_f1Score = f1_score(y_test, y_pred1)\n",
    "\n",
    "print(f'The Precision of the Logistic Model is: {LOG_precision}')\n",
    "print(f'The Recall of the Logistic Model is: {LOG_recall}')\n",
    "print(f'The F1-Score of the Logistic Model is: {LOG_f1Score}')"
   ]
  },
  {
   "cell_type": "markdown",
   "id": "cbd8637c",
   "metadata": {},
   "source": [
    "#### 2. Support Vector Machines"
   ]
  },
  {
   "cell_type": "code",
   "execution_count": 49,
   "id": "453dd24b",
   "metadata": {},
   "outputs": [],
   "source": [
    "svc_model = SVC()\n",
    "\n",
    "## Fitting the Model\n",
    "model2 = svc_model.fit(X_res, y_res)"
   ]
  },
  {
   "cell_type": "code",
   "execution_count": 50,
   "id": "644a6b09",
   "metadata": {},
   "outputs": [
    {
     "name": "stdout",
     "output_type": "stream",
     "text": [
      "The Initial Accuracy of the SVM Model is: 0.5869939707149009\n",
      "The Cross-Validated Accuracy of the SVM Model is: 0.5888267417690509\n"
     ]
    }
   ],
   "source": [
    "### Performance Metrics\n",
    "SVC_accuracy = model2.score(X_res, y_res)\n",
    "SVC_cv_accuracy = cross_val_score(model2, X_res, y_res, cv= kfold, scoring= 'accuracy')    ### To overcome Overfitting.\n",
    "\n",
    "print(f'The Initial Accuracy of the SVM Model is: {SVC_accuracy}')\n",
    "print(f'The Cross-Validated Accuracy of the SVM Model is: {SVC_cv_accuracy.mean()}')"
   ]
  },
  {
   "cell_type": "code",
   "execution_count": 51,
   "id": "5b66034a",
   "metadata": {},
   "outputs": [],
   "source": [
    "## Prediction\n",
    "y_pred2 = model2.predict(X_test)"
   ]
  },
  {
   "cell_type": "code",
   "execution_count": 52,
   "id": "4f4efe37",
   "metadata": {},
   "outputs": [
    {
     "name": "stdout",
     "output_type": "stream",
     "text": [
      "------------Confusion Matrix--------------\n",
      "[[1453  579]\n",
      " [ 543  425]]\n"
     ]
    }
   ],
   "source": [
    "### Confusion Matrix\n",
    "confusionmatrix7 = confusion_matrix(y_test, y_pred2)\n",
    "print('------------Confusion Matrix--------------')\n",
    "print(confusionmatrix7)"
   ]
  },
  {
   "cell_type": "code",
   "execution_count": 53,
   "id": "c3f7b9e9",
   "metadata": {},
   "outputs": [
    {
     "name": "stdout",
     "output_type": "stream",
     "text": [
      "              precision    recall  f1-score   support\n",
      "\n",
      "           0       0.73      0.72      0.72      2032\n",
      "           1       0.42      0.44      0.43       968\n",
      "\n",
      "    accuracy                           0.63      3000\n",
      "   macro avg       0.58      0.58      0.58      3000\n",
      "weighted avg       0.63      0.63      0.63      3000\n",
      "\n"
     ]
    }
   ],
   "source": [
    "### Classification Report\n",
    "from sklearn.metrics import classification_report\n",
    "print(classification_report(y_test, y_pred2))"
   ]
  },
  {
   "cell_type": "code",
   "execution_count": 54,
   "id": "b07b9122",
   "metadata": {},
   "outputs": [
    {
     "name": "stdout",
     "output_type": "stream",
     "text": [
      "The Precision of the SVM Model is: 0.42330677290836655\n",
      "The Recall of the SVM Model is: 0.4390495867768595\n",
      "The F1-Score of the SVM Model is: 0.4310344827586207\n"
     ]
    }
   ],
   "source": [
    "### Test Performance Metrics\n",
    "SVC_precision = precision_score(y_test, y_pred2)\n",
    "SVC_recall = recall_score(y_test, y_pred2)\n",
    "SVC_f1Score = f1_score(y_test, y_pred2)\n",
    "\n",
    "print(f'The Precision of the SVM Model is: {SVC_precision}')\n",
    "print(f'The Recall of the SVM Model is: {SVC_recall}')\n",
    "print(f'The F1-Score of the SVM Model is: {SVC_f1Score}')"
   ]
  },
  {
   "cell_type": "markdown",
   "id": "8d59352d",
   "metadata": {},
   "source": [
    "#### 3. K-Nearest Neighbours"
   ]
  },
  {
   "cell_type": "code",
   "execution_count": 55,
   "id": "919a420a",
   "metadata": {},
   "outputs": [],
   "source": [
    "knn_model = KNeighborsClassifier()\n",
    "\n",
    "## Fitting the Model\n",
    "model3 = knn_model.fit(X_res, y_res)"
   ]
  },
  {
   "cell_type": "code",
   "execution_count": 56,
   "id": "cfe3a763",
   "metadata": {},
   "outputs": [
    {
     "name": "stdout",
     "output_type": "stream",
     "text": [
      "The Initial Accuracy of the KNN Model is: 0.8996554694229113\n",
      "The Cross-Validated Accuracy of the KNN Model is: 0.8575588786607773\n"
     ]
    }
   ],
   "source": [
    "### Performance Metrics\n",
    "KNN_accuracy = model3.score(X_res, y_res)\n",
    "KNN_cv_accuracy = cross_val_score(model3, X_res, y_res, cv= kfold, scoring= 'accuracy')    ### To overcome Overfitting.\n",
    "\n",
    "print(f'The Initial Accuracy of the KNN Model is: {KNN_accuracy}')\n",
    "print(f'The Cross-Validated Accuracy of the KNN Model is: {KNN_cv_accuracy.mean()}')"
   ]
  },
  {
   "cell_type": "code",
   "execution_count": 57,
   "id": "f11557ad",
   "metadata": {},
   "outputs": [],
   "source": [
    "## Prediction\n",
    "y_pred3 = model3.predict(X_test)"
   ]
  },
  {
   "cell_type": "code",
   "execution_count": 58,
   "id": "4625e62c",
   "metadata": {},
   "outputs": [
    {
     "name": "stdout",
     "output_type": "stream",
     "text": [
      "------------Confusion Matrix--------------\n",
      "[[1626  406]\n",
      " [ 238  730]]\n"
     ]
    }
   ],
   "source": [
    "### Confusion Matrix\n",
    "confusionmatrix8 = confusion_matrix(y_test, y_pred3)\n",
    "print('------------Confusion Matrix--------------')\n",
    "print(confusionmatrix8)"
   ]
  },
  {
   "cell_type": "code",
   "execution_count": 59,
   "id": "16c7ea85",
   "metadata": {},
   "outputs": [
    {
     "name": "stdout",
     "output_type": "stream",
     "text": [
      "              precision    recall  f1-score   support\n",
      "\n",
      "           0       0.87      0.80      0.83      2032\n",
      "           1       0.64      0.75      0.69       968\n",
      "\n",
      "    accuracy                           0.79      3000\n",
      "   macro avg       0.76      0.78      0.76      3000\n",
      "weighted avg       0.80      0.79      0.79      3000\n",
      "\n"
     ]
    }
   ],
   "source": [
    "### Classification Report\n",
    "from sklearn.metrics import classification_report\n",
    "print(classification_report(y_test, y_pred3))"
   ]
  },
  {
   "cell_type": "code",
   "execution_count": 60,
   "id": "1c10bc58",
   "metadata": {},
   "outputs": [
    {
     "name": "stdout",
     "output_type": "stream",
     "text": [
      "The Precision of the KNN Model is: 0.6426056338028169\n",
      "The Recall of the KNN Model is: 0.7541322314049587\n",
      "The F1-Score of the KNN Model is: 0.6939163498098859\n"
     ]
    }
   ],
   "source": [
    "### Test Performance Metrics\n",
    "KNN_precision = precision_score(y_test, y_pred3)\n",
    "KNN_recall = recall_score(y_test, y_pred3)\n",
    "KNN_f1Score = f1_score(y_test, y_pred3)\n",
    "\n",
    "print(f'The Precision of the KNN Model is: {KNN_precision}')\n",
    "print(f'The Recall of the KNN Model is: {KNN_recall}')\n",
    "print(f'The F1-Score of the KNN Model is: {KNN_f1Score}')"
   ]
  },
  {
   "cell_type": "markdown",
   "id": "3beaa7ca",
   "metadata": {},
   "source": [
    "#### 4. Decision Trees"
   ]
  },
  {
   "cell_type": "code",
   "execution_count": 61,
   "id": "abe476b1",
   "metadata": {},
   "outputs": [],
   "source": [
    "dc_model = DecisionTreeClassifier()\n",
    "\n",
    "## Fitting the Model\n",
    "model4 = dc_model.fit(X_res, y_res)"
   ]
  },
  {
   "cell_type": "code",
   "execution_count": 62,
   "id": "926d1702",
   "metadata": {},
   "outputs": [
    {
     "name": "stdout",
     "output_type": "stream",
     "text": [
      "The Initial Accuracy of the DC Model is: 1.0\n",
      "The Cross-Validated Accuracy of the DC Model is: 0.8450685061801714\n"
     ]
    }
   ],
   "source": [
    "### Performance Metrics\n",
    "DC_accuracy = model4.score(X_res, y_res)\n",
    "DC_cv_accuracy = cross_val_score(model4, X_res, y_res, cv= kfold, scoring= 'accuracy')    ### To overcome Overfitting.\n",
    "\n",
    "print(f'The Initial Accuracy of the DC Model is: {DC_accuracy}')\n",
    "print(f'The Cross-Validated Accuracy of the DC Model is: {DC_cv_accuracy.mean()}')"
   ]
  },
  {
   "cell_type": "code",
   "execution_count": 63,
   "id": "7d5af46d",
   "metadata": {},
   "outputs": [],
   "source": [
    "## Prediction\n",
    "y_pred4 = model4.predict(X_test)"
   ]
  },
  {
   "cell_type": "code",
   "execution_count": 64,
   "id": "5aab3701",
   "metadata": {},
   "outputs": [
    {
     "name": "stdout",
     "output_type": "stream",
     "text": [
      "------------Confusion Matrix--------------\n",
      "[[1673  359]\n",
      " [ 333  635]]\n"
     ]
    }
   ],
   "source": [
    "### Confusion Matrix\n",
    "confusionmatrix9 = confusion_matrix(y_test, y_pred4)\n",
    "print('------------Confusion Matrix--------------')\n",
    "print(confusionmatrix9)"
   ]
  },
  {
   "cell_type": "code",
   "execution_count": 65,
   "id": "8fce7408",
   "metadata": {},
   "outputs": [
    {
     "name": "stdout",
     "output_type": "stream",
     "text": [
      "              precision    recall  f1-score   support\n",
      "\n",
      "           0       0.83      0.82      0.83      2032\n",
      "           1       0.64      0.66      0.65       968\n",
      "\n",
      "    accuracy                           0.77      3000\n",
      "   macro avg       0.74      0.74      0.74      3000\n",
      "weighted avg       0.77      0.77      0.77      3000\n",
      "\n"
     ]
    }
   ],
   "source": [
    "### Classification Report\n",
    "from sklearn.metrics import classification_report\n",
    "print(classification_report(y_test, y_pred4))"
   ]
  },
  {
   "cell_type": "code",
   "execution_count": 66,
   "id": "5a0916cb",
   "metadata": {},
   "outputs": [
    {
     "name": "stdout",
     "output_type": "stream",
     "text": [
      "The Precision of the DC Model is: 0.6388329979879276\n",
      "The Recall of the DC Model is: 0.65599173553719\n",
      "The F1-Score of the DC Model is: 0.6472986748216105\n"
     ]
    }
   ],
   "source": [
    "### Test Performance Metrics\n",
    "DC_precision = precision_score(y_test, y_pred4)\n",
    "DC_recall = recall_score(y_test, y_pred4)\n",
    "DC_f1Score = f1_score(y_test, y_pred4)\n",
    "\n",
    "print(f'The Precision of the DC Model is: {DC_precision}')\n",
    "print(f'The Recall of the DC Model is: {DC_recall}')\n",
    "print(f'The F1-Score of the DC Model is: {DC_f1Score}')"
   ]
  },
  {
   "cell_type": "markdown",
   "id": "3874ad03",
   "metadata": {},
   "source": [
    "#### 5. Random Forest"
   ]
  },
  {
   "cell_type": "code",
   "execution_count": 67,
   "id": "50b22880",
   "metadata": {},
   "outputs": [],
   "source": [
    "rf_model = RandomForestClassifier()\n",
    "\n",
    "## Fitting the Model\n",
    "model5 = rf_model.fit(X_res, y_res)"
   ]
  },
  {
   "cell_type": "code",
   "execution_count": 68,
   "id": "99c26245",
   "metadata": {},
   "outputs": [
    {
     "name": "stdout",
     "output_type": "stream",
     "text": [
      "The Initial Accuracy of the RF Model is: 0.9997846683893196\n",
      "The Cross-Validated Accuracy of the RF Model is: 0.888888102705913\n"
     ]
    }
   ],
   "source": [
    "### Performance Metrics\n",
    "RF_accuracy = model5.score(X_res, y_res)\n",
    "RF_cv_accuracy = cross_val_score(model5, X_res, y_res, cv= kfold, scoring= 'accuracy')    ### To overcome Overfitting.\n",
    "\n",
    "print(f'The Initial Accuracy of the RF Model is: {RF_accuracy}')\n",
    "print(f'The Cross-Validated Accuracy of the RF Model is: {RF_cv_accuracy.mean()}')"
   ]
  },
  {
   "cell_type": "code",
   "execution_count": 69,
   "id": "d8c756fc",
   "metadata": {},
   "outputs": [],
   "source": [
    "## Prediction\n",
    "y_pred5 = model5.predict(X_test)"
   ]
  },
  {
   "cell_type": "code",
   "execution_count": 70,
   "id": "6f87690a",
   "metadata": {},
   "outputs": [
    {
     "name": "stdout",
     "output_type": "stream",
     "text": [
      "------------Confusion Matrix--------------\n",
      "[[1785  247]\n",
      " [ 327  641]]\n"
     ]
    }
   ],
   "source": [
    "### Confusion Matrix\n",
    "confusionmatrix10 = confusion_matrix(y_test, y_pred5)\n",
    "print('------------Confusion Matrix--------------')\n",
    "print(confusionmatrix10)"
   ]
  },
  {
   "cell_type": "code",
   "execution_count": 71,
   "id": "9cbeb733",
   "metadata": {},
   "outputs": [
    {
     "name": "stdout",
     "output_type": "stream",
     "text": [
      "              precision    recall  f1-score   support\n",
      "\n",
      "           0       0.85      0.88      0.86      2032\n",
      "           1       0.72      0.66      0.69       968\n",
      "\n",
      "    accuracy                           0.81      3000\n",
      "   macro avg       0.78      0.77      0.78      3000\n",
      "weighted avg       0.81      0.81      0.81      3000\n",
      "\n"
     ]
    }
   ],
   "source": [
    "### Classification Report\n",
    "from sklearn.metrics import classification_report\n",
    "print(classification_report(y_test, y_pred5))"
   ]
  },
  {
   "cell_type": "code",
   "execution_count": 72,
   "id": "ff462a21",
   "metadata": {},
   "outputs": [
    {
     "name": "stdout",
     "output_type": "stream",
     "text": [
      "The Precision of the RF Model is: 0.7218468468468469\n",
      "The Recall of the RF Model is: 0.6621900826446281\n",
      "The F1-Score of the RF Model is: 0.6907327586206897\n"
     ]
    }
   ],
   "source": [
    "### Test Performance Metrics\n",
    "RF_precision = precision_score(y_test, y_pred5)\n",
    "RF_recall = recall_score(y_test, y_pred5)\n",
    "RF_f1Score = f1_score(y_test, y_pred5)\n",
    "\n",
    "print(f'The Precision of the RF Model is: {RF_precision}')\n",
    "print(f'The Recall of the RF Model is: {RF_recall}')\n",
    "print(f'The F1-Score of the RF Model is: {RF_f1Score}')"
   ]
  },
  {
   "cell_type": "code",
   "execution_count": 73,
   "id": "fa73fc03",
   "metadata": {},
   "outputs": [
    {
     "name": "stdout",
     "output_type": "stream",
     "text": [
      "-----Model Metrics Analysis-----\n"
     ]
    },
    {
     "data": {
      "text/html": [
       "<div>\n",
       "<style scoped>\n",
       "    .dataframe tbody tr th:only-of-type {\n",
       "        vertical-align: middle;\n",
       "    }\n",
       "\n",
       "    .dataframe tbody tr th {\n",
       "        vertical-align: top;\n",
       "    }\n",
       "\n",
       "    .dataframe thead th {\n",
       "        text-align: right;\n",
       "    }\n",
       "</style>\n",
       "<table border=\"1\" class=\"dataframe\">\n",
       "  <thead>\n",
       "    <tr style=\"text-align: right;\">\n",
       "      <th></th>\n",
       "      <th>Model</th>\n",
       "      <th>Train Accuracy</th>\n",
       "      <th>Test Precision</th>\n",
       "      <th>Test Recall</th>\n",
       "      <th>Test F1 Score</th>\n",
       "    </tr>\n",
       "  </thead>\n",
       "  <tbody>\n",
       "    <tr>\n",
       "      <th>0</th>\n",
       "      <td>Logistic Regression</td>\n",
       "      <td>0.825049</td>\n",
       "      <td>0.693202</td>\n",
       "      <td>0.800620</td>\n",
       "      <td>0.743049</td>\n",
       "    </tr>\n",
       "    <tr>\n",
       "      <th>2</th>\n",
       "      <td>K-Nearest Neighbours</td>\n",
       "      <td>0.857559</td>\n",
       "      <td>0.642606</td>\n",
       "      <td>0.754132</td>\n",
       "      <td>0.693916</td>\n",
       "    </tr>\n",
       "    <tr>\n",
       "      <th>4</th>\n",
       "      <td>Random Forest</td>\n",
       "      <td>0.888888</td>\n",
       "      <td>0.721847</td>\n",
       "      <td>0.662190</td>\n",
       "      <td>0.690733</td>\n",
       "    </tr>\n",
       "    <tr>\n",
       "      <th>3</th>\n",
       "      <td>Decision Trees</td>\n",
       "      <td>0.845069</td>\n",
       "      <td>0.638833</td>\n",
       "      <td>0.655992</td>\n",
       "      <td>0.647299</td>\n",
       "    </tr>\n",
       "    <tr>\n",
       "      <th>1</th>\n",
       "      <td>Support Vectors</td>\n",
       "      <td>0.588827</td>\n",
       "      <td>0.423307</td>\n",
       "      <td>0.439050</td>\n",
       "      <td>0.431034</td>\n",
       "    </tr>\n",
       "  </tbody>\n",
       "</table>\n",
       "</div>"
      ],
      "text/plain": [
       "                  Model  Train Accuracy  Test Precision  Test Recall  \\\n",
       "0   Logistic Regression        0.825049        0.693202     0.800620   \n",
       "2  K-Nearest Neighbours        0.857559        0.642606     0.754132   \n",
       "4         Random Forest        0.888888        0.721847     0.662190   \n",
       "3        Decision Trees        0.845069        0.638833     0.655992   \n",
       "1       Support Vectors        0.588827        0.423307     0.439050   \n",
       "\n",
       "   Test F1 Score  \n",
       "0       0.743049  \n",
       "2       0.693916  \n",
       "4       0.690733  \n",
       "3       0.647299  \n",
       "1       0.431034  "
      ]
     },
     "execution_count": 73,
     "metadata": {},
     "output_type": "execute_result"
    }
   ],
   "source": [
    "Metrics = pd.DataFrame({'Model':['Logistic Regression', 'Support Vectors', 'K-Nearest Neighbours', 'Decision Trees', 'Random Forest'],\n",
    "                      'Train Accuracy':[LOG_cv_accuracy.mean(), SVC_cv_accuracy.mean(), KNN_cv_accuracy.mean(), DC_cv_accuracy.mean(), RF_cv_accuracy.mean()],\n",
    "                      'Test Precision':[LOG_precision, SVC_precision, KNN_precision, DC_precision, RF_precision],\n",
    "                      'Test Recall':[LOG_recall, SVC_recall, KNN_recall, DC_recall, RF_recall],\n",
    "                      'Test F1 Score':[LOG_f1Score, SVC_f1Score, KNN_f1Score, DC_f1Score, RF_f1Score],})\n",
    "\n",
    "print('-----Model Metrics Analysis-----')\n",
    "Metrics.nlargest(5,'Test Recall')\n"
   ]
  },
  {
   "cell_type": "markdown",
   "id": "060f253b",
   "metadata": {},
   "source": [
    "<h4 align= 'center'><strong><b>I find that Logistic Regression has the highest Recall compares to all other Models. Also its Accuracy is moderate enough.</b></strong></h4>"
   ]
  },
  {
   "cell_type": "code",
   "execution_count": 84,
   "id": "2571bdaa",
   "metadata": {},
   "outputs": [],
   "source": [
    "# accuracy_score(y_test, y_pred1)"
   ]
  },
  {
   "cell_type": "code",
   "execution_count": null,
   "id": "1f1c4299",
   "metadata": {},
   "outputs": [],
   "source": []
  }
 ],
 "metadata": {
  "kernelspec": {
   "display_name": "Python 3 (ipykernel)",
   "language": "python",
   "name": "python3"
  },
  "language_info": {
   "codemirror_mode": {
    "name": "ipython",
    "version": 3
   },
   "file_extension": ".py",
   "mimetype": "text/x-python",
   "name": "python",
   "nbconvert_exporter": "python",
   "pygments_lexer": "ipython3",
   "version": "3.9.7"
  }
 },
 "nbformat": 4,
 "nbformat_minor": 5
}
